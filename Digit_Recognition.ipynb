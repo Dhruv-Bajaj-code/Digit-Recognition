{
  "cells": [
    {
      "cell_type": "code",
      "execution_count": null,
      "metadata": {
        "colab": {
          "base_uri": "https://localhost:8080/"
        },
        "id": "Q3KybzpwE1jE",
        "outputId": "c1269f4a-7e5f-4bf4-d112-e34ca3fc0102"
      },
      "outputs": [
        {
          "name": "stdout",
          "output_type": "stream",
          "text": [
            "Epoch 1/5\n",
            "469/469 [==============================] - 35s 72ms/step - loss: 0.2190 - accuracy: 0.9375 - val_loss: 0.0803 - val_accuracy: 0.9758\n",
            "Epoch 2/5\n",
            "469/469 [==============================] - 35s 74ms/step - loss: 0.0667 - accuracy: 0.9801 - val_loss: 0.0556 - val_accuracy: 0.9807\n",
            "Epoch 3/5\n",
            "469/469 [==============================] - 33s 71ms/step - loss: 0.0453 - accuracy: 0.9863 - val_loss: 0.0482 - val_accuracy: 0.9834\n",
            "Epoch 4/5\n",
            "469/469 [==============================] - 33s 71ms/step - loss: 0.0329 - accuracy: 0.9897 - val_loss: 0.0424 - val_accuracy: 0.9849\n",
            "Epoch 5/5\n",
            "469/469 [==============================] - 34s 73ms/step - loss: 0.0240 - accuracy: 0.9928 - val_loss: 0.0408 - val_accuracy: 0.9857\n",
            "313/313 [==============================] - 2s 7ms/step - loss: 0.0408 - accuracy: 0.9857\n",
            "Test accuracy: 0.9857000112533569\n",
            "1/1 [==============================] - 0s 64ms/step\n",
            "3\n"
          ]
        }
      ],
      "source": [
        "import tensorflow as tf\n",
        "from tensorflow import keras\n",
        "from tensorflow.keras.datasets import mnist\n",
        "import cv2\n",
        "import numpy as np\n",
        "\n",
        "(x_train, y_train), (x_test, y_test) = mnist.load_data()\n",
        "\n",
        "x_train = x_train.reshape((60000, 28, 28, 1))\n",
        "x_train = x_train.astype('float32') / 255.0\n",
        "\n",
        "x_test = x_test.reshape((10000, 28, 28, 1))\n",
        "x_test = x_test.astype('float32') / 255.0\n",
        "\n",
        "y_train = keras.utils.to_categorical(y_train)\n",
        "y_test = keras.utils.to_categorical(y_test)\n",
        "\n",
        "model = keras.Sequential([\n",
        "    keras.layers.Conv2D(32, (3, 3), activation='relu', input_shape=(28, 28, 1)),\n",
        "    keras.layers.MaxPooling2D((2, 2)),\n",
        "    keras.layers.Flatten(),\n",
        "    keras.layers.Dense(128, activation='relu'),\n",
        "    keras.layers.Dense(10, activation='softmax')\n",
        "])\n",
        "\n",
        "# Compile the model\n",
        "model.compile(optimizer='adam', loss='categorical_crossentropy', metrics=['accuracy'])\n",
        "\n",
        "# Train the model\n",
        "model.fit(x_train, y_train, epochs=5, batch_size=128, validation_data=(x_test, y_test))\n",
        "\n",
        "# Evaluate the model\n",
        "test_loss, test_acc = model.evaluate(x_test, y_test)\n",
        "print('Test accuracy:', test_acc)\n",
        "\n",
        "# Save the model\n",
        "# model.save('handwritten_digit_model.h5')\n",
        "model = tf.keras.models.load_model(r\"/content/handwritten_digit_model.h5\")\n",
        "\n",
        "image = cv2.imread(r\"/content/five.png\")[:, :, 0]\n",
        "image = cv2.resize(image, (28, 28))\n",
        "image = np.array([image])\n",
        "image = np.invert(image)\n",
        "image = image.astype('float32') / 255.0\n",
        "# print(image)\n",
        "\n",
        "prediction = model.predict(image)\n",
        "print(prediction.argmax())\n",
        "\n"
      ]
    },
    {
      "cell_type": "code",
      "execution_count": null,
      "metadata": {
        "id": "ZLFOzFGbE7ls"
      },
      "outputs": [],
      "source": []
    }
  ],
  "metadata": {
    "colab": {
      "provenance": []
    },
    "kernelspec": {
      "display_name": "Python 3",
      "name": "python3"
    },
    "language_info": {
      "name": "python"
    }
  },
  "nbformat": 4,
  "nbformat_minor": 0
}
